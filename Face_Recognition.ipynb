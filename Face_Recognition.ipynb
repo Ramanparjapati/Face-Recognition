{
  "nbformat": 4,
  "nbformat_minor": 0,
  "metadata": {
    "colab": {
      "provenance": [],
      "authorship_tag": "ABX9TyNK68X8VpaIxW8GNuWfet8P",
      "include_colab_link": true
    },
    "kernelspec": {
      "name": "python3",
      "display_name": "Python 3"
    },
    "language_info": {
      "name": "python"
    }
  },
  "cells": [
    {
      "cell_type": "markdown",
      "metadata": {
        "id": "view-in-github",
        "colab_type": "text"
      },
      "source": [
        "<a href=\"https://colab.research.google.com/github/Ramanparjapati/Face-Recognition/blob/master/Face_Recognition.ipynb\" target=\"_parent\"><img src=\"https://colab.research.google.com/assets/colab-badge.svg\" alt=\"Open In Colab\"/></a>"
      ]
    },
    {
      "cell_type": "code",
      "execution_count": 7,
      "metadata": {
        "id": "beanN0bLnquf",
        "colab": {
          "base_uri": "https://localhost:8080/"
        },
        "outputId": "401b5538-bc00-4dc4-abf9-55ab9f3e4ab0"
      },
      "outputs": [
        {
          "output_type": "stream",
          "name": "stdout",
          "text": [
            "Enter the path of the image: /content/my_folder/IMG_20230319_155904.jpg\n",
            "\u001b[1m1/1\u001b[0m \u001b[32m━━━━━━━━━━━━━━━━━━━━\u001b[0m\u001b[37m\u001b[0m \u001b[1m0s\u001b[0m 96ms/step\n",
            "Recognizes as: 0\n"
          ]
        }
      ],
      "source": [
        "import cv2\n",
        "import numpy as np\n",
        "import tensorflow as tf\n",
        "from tensorflow.keras import layers, models\n",
        "from tensorflow.keras.preprocessing.image import img_to_array, load_img\n",
        "import os\n",
        "from sklearn.model_selection import train_test_split\n",
        "\n",
        "def load_images_from_folder(folder):\n",
        "  images = []\n",
        "  labels = []\n",
        "  label= 0\n",
        "  for filename in os.listdir(folder):\n",
        "    img_path = os.path.join(folder, filename)\n",
        "    img = cv2.imread(img_path)\n",
        "    if img is not None:\n",
        "      img = cv2.cvtColor(img, cv2.COLOR_BGR2GRAY)\n",
        "      img = cv2.resize(img, (128,128))\n",
        "      img = img_to_array(img)/ 255.0\n",
        "      images.append(img)\n",
        "      labels.append(label)\n",
        "  return np.array(images), np.array(labels)\n",
        "\n",
        "dataset_folder = \"/content/my_folder\"\n",
        "images, labels = load_images_from_folder(dataset_folder)\n",
        "\n",
        "x_train, x_test, y_train, y_test = train_test_split(images, labels, test_size=0.2, random_state=42)\n",
        "\n",
        "model = models.Sequential()\n",
        "model.add(layers.Conv2D(32,(3,3), activation=\"relu\", input_shape=(128,128,1)))\n",
        "model.add(layers.MaxPooling2D((2,2)))\n",
        "model.add(layers.Conv2D(64,(3,3), activation=\"relu\"))\n",
        "model.add(layers.MaxPooling2D((2,2)))\n",
        "model.add(layers.Conv2D(64,(3,3), activation=\"relu\"))\n",
        "model.add(layers.MaxPooling2D((2,2)))\n",
        "model.add(layers.Flatten())\n",
        "model.add(layers.Dense(64, activation=\"relu\"))\n",
        "model.add(layers.Dense(len(set(labels)), activation=\"softmax\"))\n",
        "\n",
        "model.compile(optimizer=\"adam\", loss = \"sparse_categorical_crossentropy\", metrics=[\"accuracy\"])\n",
        "\n",
        "def recognize_face(image_path):\n",
        "  img = cv2.imread(image_path)\n",
        "  img_gray = cv2.cvtColor(img, cv2.COLOR_BGR2GRAY)\n",
        "  img_resized = cv2.resize(img_gray, (128,128))\n",
        "  img_array = img_to_array(img_resized)/255.0\n",
        "  img_array = np.expand_dims(img_array, axis=0)\n",
        "\n",
        "  prediction = model.predict(img_array)\n",
        "  predicted_label = np.argmax(prediction)\n",
        "  return predicted_label\n",
        "\n",
        "user_image = input(\"Enter the path of the image: \")\n",
        "label = recognize_face(user_image)\n",
        "print(f'Recognizes as: {label}')\n"
      ]
    },
    {
      "cell_type": "code",
      "source": [
        "import os\n",
        "os.makedirs(\"my_folder\", exist_ok=True)"
      ],
      "metadata": {
        "id": "2EYWeHUXoFMf"
      },
      "execution_count": 4,
      "outputs": []
    }
  ]
}